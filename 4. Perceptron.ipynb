{
 "cells": [
  {
   "cell_type": "markdown",
   "id": "5639ff65",
   "metadata": {},
   "source": [
    "# Percpetron"
   ]
  },
  {
   "cell_type": "code",
   "execution_count": 1,
   "id": "ea3ac6c7",
   "metadata": {},
   "outputs": [],
   "source": [
    "import sys\n",
    "\n",
    "%matplotlib inline\n",
    "import os\n",
    "\n",
    "import torch\n",
    "import torch.nn as nn\n",
    "import torch.nn.functional as F\n",
    "from torch.utils.data import TensorDataset, DataLoader\n",
    "\n",
    "from sklearn.model_selection import train_test_split\n",
    "from sklearn.preprocessing import MinMaxScaler\n",
    "\n",
    "from glob import glob\n",
    "import numpy as np\n",
    "\n",
    "from torchvision import transforms\n",
    "\n",
    "from plot_mel import * \n",
    "\n",
    "\n",
    "from sklearn.utils import gen_batches\n",
    "\n",
    "from tqdm import tqdm"
   ]
  },
  {
   "cell_type": "markdown",
   "id": "058cece9",
   "metadata": {},
   "source": [
    "## Load dataset\n",
    "\n"
   ]
  },
  {
   "cell_type": "code",
   "execution_count": 9,
   "id": "94ac6911",
   "metadata": {},
   "outputs": [],
   "source": [
    "encoded_space = torch.load(\"../Dataset/Encodings/encoded_space_SPA.pt\")"
   ]
  },
  {
   "cell_type": "markdown",
   "id": "b40de9ff",
   "metadata": {},
   "source": [
    "### Train test split"
   ]
  },
  {
   "cell_type": "code",
   "execution_count": null,
   "id": "1a608454",
   "metadata": {},
   "outputs": [],
   "source": [
    "#Since I have problems with the labels, I am not using Dataloader from PyTorch"
   ]
  },
  {
   "cell_type": "code",
   "execution_count": 10,
   "id": "5abfa4e6",
   "metadata": {},
   "outputs": [],
   "source": [
    "#You need to remember how much spanish vs non-spanish is there in your encoded space...\n",
    "labels = [1 for _ in range(1000)] + [0 for _ in range(2000)]"
   ]
  },
  {
   "cell_type": "code",
   "execution_count": 11,
   "id": "5404eae7",
   "metadata": {},
   "outputs": [],
   "source": [
    "X = encoded_space\n",
    "y = labels\n",
    "\n",
    "\n",
    "X_train, X_test, y_train, y_test = train_test_split(X,y,test_size=.2,random_state=420,shuffle=True)"
   ]
  },
  {
   "cell_type": "code",
   "execution_count": 12,
   "id": "d160e1e7",
   "metadata": {},
   "outputs": [
    {
     "name": "stdout",
     "output_type": "stream",
     "text": [
      "Perceptron(\n",
      "  (model): Sequential(\n",
      "    (0): Linear(in_features=3000, out_features=1, bias=False)\n",
      "    (1): Sigmoid()\n",
      "  )\n",
      ")\n"
     ]
    }
   ],
   "source": [
    "class Perceptron(nn.Module):\n",
    "    \n",
    "    def __init__(self):\n",
    "        super(Perceptron,self).__init__()\n",
    "        \n",
    "        #do I need a Sequential stuff?\n",
    "        self.model = nn.Sequential(\n",
    "           \n",
    "        nn.Linear(in_features=3000, out_features= 1, bias= 0),\n",
    "        nn.Sigmoid()\n",
    "            \n",
    "        )\n",
    "        \n",
    "    def forward(self,x):\n",
    "        x = self.model(x)\n",
    "        return x\n",
    "    \n",
    "perceptron = Perceptron()\n",
    "\n",
    "#print architecture\n",
    "print(perceptron)"
   ]
  },
  {
   "cell_type": "code",
   "execution_count": null,
   "id": "3840075c",
   "metadata": {
    "vscode": {
     "languageId": "plaintext"
    }
   },
   "outputs": [],
   "source": [
    "perceptron.load_state_dict(torch.load(\"../saved_models/perceptronSPA_ENG.pt\"))"
   ]
  },
  {
   "cell_type": "markdown",
   "id": "a2c59a06",
   "metadata": {},
   "source": [
    "## Train it"
   ]
  },
  {
   "cell_type": "code",
   "execution_count": 13,
   "id": "1c592090",
   "metadata": {},
   "outputs": [],
   "source": [
    "num_epochs = 500\n",
    "batch_size = 100\n",
    "learning_rate = 1e-3"
   ]
  },
  {
   "cell_type": "code",
   "execution_count": 14,
   "id": "558e9c08",
   "metadata": {},
   "outputs": [
    {
     "data": {
      "text/plain": [
       "torch.Size([2400, 3000])"
      ]
     },
     "execution_count": 14,
     "metadata": {},
     "output_type": "execute_result"
    }
   ],
   "source": [
    "X_train.shape"
   ]
  },
  {
   "cell_type": "code",
   "execution_count": null,
   "id": "7ecc9d1a",
   "metadata": {},
   "outputs": [],
   "source": [
    "# set to training mode\n",
    "perceptron.train()\n",
    "\n",
    "\n",
    "optimizer = torch.optim.Adam(params=perceptron.parameters(), lr=learning_rate, weight_decay=1e-3)\n",
    "\n",
    "train_loss_avg = []\n",
    "\n",
    "\n",
    "\n",
    "# Calculate the number of batches\n",
    "num_batches = len(X_train) // batch_size\n",
    "\n",
    "\n",
    "print('Training ...')\n",
    "for epoch in range(num_epochs):\n",
    "    train_loss_avg.append(0)\n",
    "\n",
    "    # Generate batches\n",
    "    for batch_idx in range(num_batches):\n",
    "        start_idx = batch_idx * batch_size\n",
    "        end_idx = (batch_idx + 1) * batch_size\n",
    "\n",
    "\n",
    "        X_batch = X_train[start_idx:end_idx]\n",
    "        y_batch = y_train[start_idx:end_idx]\n",
    "\n",
    "\n",
    "        # predict label\n",
    "        #can simplfy code with no redundancy\n",
    "        batch_labels = perceptron(X_batch.float().squeeze(1))\n",
    "        #pytorch wants a float instead of a dtype...\n",
    "        true_labels = y_batch.float()\n",
    "\n",
    "        # prediction error\n",
    "        #label vs predizione\n",
    "\n",
    "        loss = F.mse_loss(batch_labels.squeeze(1), true_labels)\n",
    "\n",
    "        # backpropagation\n",
    "        optimizer.zero_grad()\n",
    "        loss.backward()\n",
    "\n",
    "        # one step of the optmizer (using the gradients from backpropagation)\n",
    "        optimizer.step()\n",
    "\n",
    "        train_loss_avg[-1] += loss.item()\n",
    "\n",
    "    train_loss_avg[-1] /= num_batches\n",
    "    print('Epoch [%d / %d] average prediction error: %f' % (epoch+1, num_epochs, train_loss_avg[-1]))\n"
   ]
  },
  {
   "cell_type": "markdown",
   "id": "2ea7ae9d",
   "metadata": {},
   "source": [
    "### Plot training curve"
   ]
  },
  {
   "cell_type": "code",
   "execution_count": null,
   "id": "0dd5953f",
   "metadata": {
    "scrolled": false
   },
   "outputs": [],
   "source": [
    "import matplotlib.pyplot as plt\n",
    "plt.ion()\n",
    "\n",
    "fig = plt.figure()\n",
    "plt.plot(train_loss_avg)\n",
    "plt.xlabel('Epochs')\n",
    "plt.ylabel('Prediction error')\n",
    "plt.title(\"Perceptron\")\n",
    "plt.show()"
   ]
  },
  {
   "cell_type": "markdown",
   "id": "37a1a1bf",
   "metadata": {},
   "source": [
    "## Evaluation\n"
   ]
  },
  {
   "cell_type": "code",
   "execution_count": null,
   "id": "381767ca",
   "metadata": {},
   "outputs": [],
   "source": [
    "# set to evaluation mode\n",
    "perceptron.eval()\n",
    "\n",
    "# Calculate the number of batches\n",
    "num_batches = len(X_test) // batch_size\n",
    "\n",
    "test_loss_avg = 0\n",
    "for batch_idx in range(num_batches):\n",
    "    \n",
    "    start_idx = batch_idx * batch_size\n",
    "    end_idx = (batch_idx + 1) * batch_size\n",
    "    \n",
    "    \n",
    "    X_batch = X_test[start_idx:end_idx]\n",
    "    y_batch = y_test[start_idx:end_idx]\n",
    "\n",
    "    \n",
    "    \n",
    "    with torch.no_grad():\n",
    "        \n",
    "        # autoencoder reconstruction\n",
    "        y_batch_prediction = perceptron(X_batch).squeeze(1)\n",
    "  \n",
    "        # reconstruction error\n",
    "        loss = F.mse_loss(y_batch_prediction, y_batch)\n",
    "\n",
    "        test_loss_avg += loss.item()\n",
    "        \n",
    "        \n",
    "test_loss_avg /= num_batches\n",
    "print('average prediction error: %f' % (test_loss_avg))"
   ]
  },
  {
   "cell_type": "code",
   "execution_count": null,
   "id": "1904bcf0",
   "metadata": {},
   "outputs": [],
   "source": [
    "torch.save(perceptron.state_dict(),\"../saved_models/perceptronSPA_ENG_JAP.pt\")"
   ]
  }
 ],
 "metadata": {
  "kernelspec": {
   "display_name": "Python 3 (ipykernel)",
   "language": "python",
   "name": "python3"
  },
  "language_info": {
   "codemirror_mode": {
    "name": "ipython",
    "version": 3
   },
   "file_extension": ".py",
   "mimetype": "text/x-python",
   "name": "python",
   "nbconvert_exporter": "python",
   "pygments_lexer": "ipython3",
   "version": "3.10.11"
  }
 },
 "nbformat": 4,
 "nbformat_minor": 5
}
